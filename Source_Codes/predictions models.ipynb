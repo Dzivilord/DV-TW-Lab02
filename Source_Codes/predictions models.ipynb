{
 "cells": [
  {
   "cell_type": "markdown",
   "metadata": {},
   "source": [
    "### Bước 1: \n",
    "- Import các công cụ và thư viện"
   ]
  },
  {
   "cell_type": "code",
   "execution_count": null,
   "metadata": {},
   "outputs": [],
   "source": [
    "import os\n",
    "import numpy as np\n",
    "import pandas as pd\n",
    "import seaborn as sns\n",
    "import matplotlib.pyplot as plt\n",
    "# Import các công cụ từ thư viện scikit-learn để chia dữ liệu, chuẩn hóa và xây dựng mô hình\n",
    "from sklearn.model_selection import train_test_split\n",
    "from sklearn.preprocessing import StandardScaler\n",
    "# Import các mô hình hồi quy\n",
    "from sklearn.linear_model import LinearRegression\n",
    "from sklearn.neighbors import KNeighborsRegressor\n",
    "from sklearn.svm import SVR\n",
    "from sklearn.tree import DecisionTreeRegressor\n",
    "from sklearn.ensemble import AdaBoostRegressor, GradientBoostingRegressor\n",
    "import xgboost as xgb\n",
    "# Công cụ để tìm tham số tốt nhất cho mô hình\n",
    "from sklearn.model_selection import GridSearchCV\n",
    "# Import các hàm tính toán hiệu suất mô hình\n",
    "from sklearn.metrics import mean_squared_error, r2_score\n",
    "# Tắt cảnh báo không cần thiết\n",
    "import warnings\n",
    "warnings.filterwarnings('ignore')"
   ]
  },
  {
   "cell_type": "markdown",
   "metadata": {},
   "source": [
    "### Bước 2: \n",
    "   - Chọn các đặc trưng quan trọng"
   ]
  },
  {
   "cell_type": "code",
   "execution_count": null,
   "metadata": {},
   "outputs": [],
   "source": [
    "# Tải dữ liệu từ tệp CSV\n",
    "data = pd.read_csv('air_quality.csv')\n",
    "# Kiểm tra danh sách các cột trong bộ dữ liệu\n",
    "print(data.columns)\n",
    "# Lựa chọn các cột liên quan đến phân tích\n",
    "selected_data = data[['aqi', 'pollutant', 'so2', 'co', 'o3', 'o3_8hr', 'pm10', \n",
    "                      'pm2.5', 'no2', 'nox', 'no', 'windspeed', 'winddirec', \n",
    "                      'co_8hr', 'pm2.5_avg', 'pm10_avg', 'so2_avg']]"
   ]
  },
  {
   "cell_type": "markdown",
   "metadata": {},
   "source": [
    "### Bước 3: EDA \n",
    "- Chúng ta kiểm tra thông tin dữ liệu và xác định các giá trị thiếu để có thể xử lý sau. \n",
    "- Dùng pairplot và heatmap để khảo sát sự tương quan giữa các đặc trưng và tìm hiểu mối quan hệ giữa chúng."
   ]
  },
  {
   "cell_type": "code",
   "execution_count": null,
   "metadata": {},
   "outputs": [],
   "source": [
    "missing_info = selected_data.isnull().sum()\n",
    "missing_info = missing_info[missing_info > 0]  # Chỉ hiển thị các cột có giá trị bị thiếu\n",
    "print(missing_info)\n",
    "# Chuyển đổi các cột dữ liệu (ngoại trừ 'pollutant') sang dạng số, xử lý lỗi nếu có\n",
    "numeric_columns = selected_data.columns.difference(['pollutant'])\n",
    "selected_data[numeric_columns] = selected_data[numeric_columns].apply(pd.to_numeric, errors='coerce')"
   ]
  },
  {
   "cell_type": "code",
   "execution_count": null,
   "metadata": {},
   "outputs": [],
   "source": [
    "# Vẽ biểu đồ pairplot để kiểm tra mối quan hệ giữa các biến số\n",
    "numeric_features = selected_data.head(1000).select_dtypes(include=['float64', 'int64']).columns\n",
    "sns.pairplot(selected_data.head(1000)[numeric_features])\n",
    "plt.show()"
   ]
  },
  {
   "cell_type": "code",
   "execution_count": null,
   "metadata": {},
   "outputs": [],
   "source": [
    "# Tính toán ma trận tương quan giữa các biến số và hiển thị qua heatmap\n",
    "correlation_matrix = selected_data.head(1000)[numeric_features].corr()\n",
    "plt.figure(figsize=(12, 8))\n",
    "sns.heatmap(correlation_matrix, annot=True, cmap='coolwarm', linewidths=0.5)\n",
    "plt.title('Ma trận tương quan')\n",
    "plt.show()"
   ]
  },
  {
   "cell_type": "markdown",
   "metadata": {},
   "source": [
    "### Bước 4: Tiền xử lý dữ liệu \n",
    "- Xử lý dữ liệu thiếu: Chúng ta loại bỏ các dòng có giá trị thiếu trong các cột quan trọng và thay thế giá trị thiếu của cột 'pollutant' bằng 'nan'.\n",
    "- Chuyển đổi các cột chứa dữ liệu chuỗi sang dạng số cho các mô hình học máy."
   ]
  },
  {
   "cell_type": "code",
   "execution_count": null,
   "metadata": {},
   "outputs": [],
   "source": [
    "# Xóa các dòng dữ liệu bị thiếu ở các cột quan trọng\n",
    "selected_data_cleaned = selected_data.dropna(subset=[\n",
    "    'aqi', 'so2', 'co', 'o3', 'o3_8hr', 'pm10', 'pm2.5', 'no2', \n",
    "    'nox', 'no', 'windspeed', 'winddirec', 'co_8hr', 'pm2.5_avg', \n",
    "    'pm10_avg', 'so2_avg'\n",
    "])\n",
    "# Điền giá trị 'nan' cho cột 'pollutant' nếu bị thiếu\n",
    "selected_data_cleaned['pollutant'] = selected_data_cleaned['pollutant'].fillna('nan')"
   ]
  },
  {
   "cell_type": "markdown",
   "metadata": {},
   "source": [
    "### Bước 5: \n",
    "- Chuẩn bị dữ liệu cho mô hình\n",
    "- tách dữ liệu thành hai phần: X (các đặc trưng) và y (chỉ số AQI). Đồng thời sử dụng phương pháp get_dummies để mã hóa các giá trị trong cột 'pollutant'.\n",
    "- Dữ liệu được chia thành các tập huấn luyện, kiểm tra và validation. Sau đó, chúng ta chuẩn hóa dữ liệu bằng StandardScaler.\n"
   ]
  },
  {
   "cell_type": "code",
   "execution_count": null,
   "metadata": {},
   "outputs": [],
   "source": [
    "# Chuyển đổi cột 'pollutant' sang biến giả (one-hot encoding)\n",
    "X = selected_data_cleaned.drop('aqi', axis=1)\n",
    "X = pd.get_dummies(X, columns=['pollutant'], drop_first=True).head(10000)\n",
    "# Đặt biến mục tiêu là 'aqi'\n",
    "y = selected_data_cleaned['aqi'].head(10000)"
   ]
  },
  {
   "cell_type": "markdown",
   "metadata": {},
   "source": [
    "### Bước 6: Huấn luyện và đánh giá mô hình học máy\n",
    "- Chúng ta áp dụng các mô hình học máy khác nhau như Hồi quy tuyến tính, KNN, SVM, Cây quyết định, AdaBoost, Gradient Boosting, XGBoost để dự báo chỉ số AQI.\n",
    "- Sau khi huấn luyện, chúng ta tính toán lỗi trung bình bình phương (MSE) để đánh giá chất lượng của mô hình. "
   ]
  },
  {
   "cell_type": "code",
   "execution_count": null,
   "metadata": {},
   "outputs": [],
   "source": [
    "# Chia dữ liệu thành tập huấn luyện, kiểm định và thử nghiệm\n",
    "X_temp_train, X_test, y_temp_train, y_test = train_test_split(X, y, test_size=0.4, random_state=42)\n",
    "X_train, X_val, y_train, y_val = train_test_split(X_temp_train, y_temp_train, test_size=0.4, random_state=42)\n",
    "# Chuẩn hóa dữ liệu về thang đo chuẩn\n",
    "scaler = StandardScaler()\n",
    "X_train_scaled = scaler.fit_transform(X_train)\n",
    "X_val_scaled = scaler.transform(X_val)\n",
    "X_test_scaled = scaler.transform(X_test)\n",
    "# Hiển thị kích thước dữ liệu sau khi chia\n",
    "print(f\"X_train: {X_train_scaled.shape}, y_train: {y_train.shape}\")\n",
    "print(f\"X_val: {X_val_scaled.shape}, y_val: {y_val.shape}\")\n",
    "print(f\"X_test: {X_test_scaled.shape}, y_test: {y_test.shape}\")"
   ]
  },
  {
   "cell_type": "markdown",
   "metadata": {},
   "source": [
    "### Bước 7: So sánh hiệu suất mô hình\n",
    "- Mỗi mô hình sẽ có MSE khác nhau, và chúng ta so sánh các mô hình để chọn ra mô hình có hiệu suất tốt nhất."
   ]
  },
  {
   "cell_type": "code",
   "execution_count": null,
   "metadata": {},
   "outputs": [],
   "source": [
    "# Tạo danh sách các mô hình cần thử nghiệm\n",
    "models = {\n",
    "    \"Linear Regression\": LinearRegression(),\n",
    "    \"KNN\": KNeighborsRegressor(),\n",
    "    \"SVM\": SVR(),\n",
    "    \"Decision Tree\": DecisionTreeRegressor(random_state=42),\n",
    "    \"AdaBoost\": AdaBoostRegressor(random_state=42),\n",
    "    \"Gradient Boosting\": GradientBoostingRegressor(random_state=42),\n",
    "    \"XGBoost\": xgb.XGBRegressor(random_state=42)\n",
    "}\n",
    "# Dictionary để lưu kết quả\n",
    "results = {}\n",
    "# Huấn luyện và đánh giá từng mô hình\n",
    "for model_name, model in models.items():\n",
    "    model.fit(X_train_scaled, y_train)\n",
    "    predictions = model.predict(X_val_scaled)\n",
    "    mse = mean_squared_error(y_val, predictions)\n",
    "    results[model_name] = mse\n",
    "    print(f\"{model_name} MSE: {mse:.4f}\")\n",
    "# Tạo bảng so sánh hiệu suất các mô hình\n",
    "performance_df = pd.DataFrame(list(results.items()), columns=['Model', 'MSE']).sort_values(by='MSE')\n",
    "print(performance_df)"
   ]
  },
  {
   "cell_type": "markdown",
   "metadata": {},
   "source": [
    "### Bước 8: Dự đoán biểu đồ & vẽ kết quả: \n",
    "- Chúng ta vẽ biểu đồ Thực tế vs Dự đoán để kiểm tra độ chính xác của các mô hình."
   ]
  },
  {
   "cell_type": "code",
   "execution_count": null,
   "metadata": {},
   "outputs": [],
   "source": [
    "# Hàm để vẽ biểu đồ giá trị thực tế và giá trị dự đoán\n",
    "def plot_predictions(actual, predicted, model_name):\n",
    "    plt.figure(figsize=(8, 6))\n",
    "    plt.scatter(actual, predicted, alpha=0.5, edgecolor='k', label='Dự Đoán')\n",
    "    plt.plot([min(actual), max(actual)], [min(actual), max(actual)], color='red', lw=2, linestyle='--', label='Phù hợp lý tưởng')\n",
    "    plt.title(f'Mô hình {model_name}: Thực Tế và Dự Đoán')\n",
    "    plt.xlabel('Giá trị thực tế')\n",
    "    plt.ylabel('Giá trị dự đoán')\n",
    "    plt.legend()\n",
    "    plt.grid()\n",
    "    plt.show()\n",
    "# Vẽ biểu đồ cho từng mô hình\n",
    "for model_name, model in models.items():\n",
    "    predictions = model.predict(X_val_scaled)\n",
    "    plot_predictions(y_val, predictions, model_name)"
   ]
  }
 ],
 "metadata": {
  "kernelspec": {
   "display_name": "Python 3",
   "language": "python",
   "name": "python3"
  },
  "language_info": {
   "codemirror_mode": {
    "name": "ipython",
    "version": 3
   },
   "file_extension": ".py",
   "mimetype": "text/x-python",
   "name": "python",
   "nbconvert_exporter": "python",
   "pygments_lexer": "ipython3",
   "version": "3.13.0"
  }
 },
 "nbformat": 4,
 "nbformat_minor": 2
}
