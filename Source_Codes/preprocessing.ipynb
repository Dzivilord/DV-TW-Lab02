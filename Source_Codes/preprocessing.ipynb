{
 "cells": [
  {
   "cell_type": "markdown",
   "metadata": {},
   "source": [
    "File notebook này có tác dụng tiền xử lý file bao gồm hai công đoạn:\n",
    "\n",
    "\n"
   ]
  },
  {
   "cell_type": "code",
   "execution_count": null,
   "metadata": {},
   "outputs": [],
   "source": [
    "import pandas as pd\n",
    "import re\n",
    "import numpy as np"
   ]
  },
  {
   "cell_type": "code",
   "execution_count": null,
   "metadata": {},
   "outputs": [],
   "source": [
    "df=pd.read_csv('../Datasets/air_quality.csv')"
   ]
  },
  {
   "cell_type": "code",
   "execution_count": null,
   "metadata": {},
   "outputs": [],
   "source": [
    "df.head(5)"
   ]
  },
  {
   "cell_type": "code",
   "execution_count": null,
   "metadata": {},
   "outputs": [],
   "source": [
    "df.info()"
   ]
  },
  {
   "cell_type": "code",
   "execution_count": null,
   "metadata": {},
   "outputs": [],
   "source": [
    "df.describe()"
   ]
  },
  {
   "cell_type": "code",
   "execution_count": null,
   "metadata": {},
   "outputs": [],
   "source": [
    "df_filtered=df[df['county']=='Taipei City']\n"
   ]
  },
  {
   "cell_type": "code",
   "execution_count": null,
   "metadata": {},
   "outputs": [],
   "source": [
    "df_filtered['sitename'].unique()"
   ]
  },
  {
   "cell_type": "code",
   "execution_count": null,
   "metadata": {},
   "outputs": [],
   "source": [
    "df_filtered=df_filtered[df_filtered['sitename']=='Shilin']"
   ]
  },
  {
   "cell_type": "code",
   "execution_count": null,
   "metadata": {},
   "outputs": [],
   "source": [
    "df_after_removecol = df_filtered.drop(columns=['latitude', 'longitude','siteid','unit','county'])"
   ]
  },
  {
   "cell_type": "code",
   "execution_count": null,
   "metadata": {},
   "outputs": [],
   "source": [
    "data=df_after_removecol.dropna(subset=['pm2.5','co_8hr','no2','o3','so2','pm10','aqi','co','windspeed','winddirec','pm2.5_avg','o3_8hr','status'])\n",
    "data['pollutant'] = data['pollutant'].fillna('Normal')\n",
    "\n",
    "data.replace('ND', np.nan, inplace=True)\n",
    "\n",
    "data.fillna(method='ffill', inplace=True)"
   ]
  },
  {
   "cell_type": "code",
   "execution_count": null,
   "metadata": {},
   "outputs": [],
   "source": [
    "\n",
    "columns_to_convert = ['so2', 'co', 'o3', 'o3_8hr', 'pm10', 'pm2.5', \n",
    "                      'no2', 'nox', 'no', 'windspeed', 'winddirec', \n",
    "                      'co_8hr', 'pm2.5_avg', 'pm10_avg', 'so2_avg']\n",
    "\n",
    "# Sử dụng astype để chuyển tất cả các cột sang kiểu float\n",
    "for col in columns_to_convert:\n",
    "    data[col]=data[col].astype(float)"
   ]
  },
  {
   "cell_type": "code",
   "execution_count": null,
   "metadata": {},
   "outputs": [],
   "source": [
    "print(data['date'].dtypes)\n"
   ]
  },
  {
   "cell_type": "code",
   "execution_count": null,
   "metadata": {},
   "outputs": [],
   "source": [
    "data.loc[:, 'date'] = data['date'].astype(str)\n",
    "data.loc[:, 'date'] = data['date'].str.replace(\"/\", \"-\", regex=False)\n"
   ]
  },
  {
   "cell_type": "code",
   "execution_count": null,
   "metadata": {},
   "outputs": [],
   "source": [
    "data['date'] = pd.to_datetime(data['date'], format=\"%Y-%m-%d %H:%M\", errors='coerce')\n",
    "data = data.dropna(subset=['date'])"
   ]
  },
  {
   "cell_type": "code",
   "execution_count": null,
   "metadata": {},
   "outputs": [],
   "source": [
    "dtypes = data.dtypes\n",
    "float_cols = set(dtypes[(dtypes==np.float32) | (dtypes==np.float64)].index)"
   ]
  },
  {
   "cell_type": "code",
   "execution_count": null,
   "metadata": {},
   "outputs": [],
   "source": [
    "try:\n",
    "    distributed_rows = ['missing_ratio', 'min', 'lower_quartile', 'median', 'upper_quartile', 'max']\n",
    "    distributed_columns = list(float_cols)  \n",
    "    \n",
    "    distributed_value = []\n",
    "\n",
    "\n",
    "    for numeric_data in float_cols:\n",
    "        distributed_value.append([\n",
    "            data[numeric_data].isnull().mean() * 100,  \n",
    "            data[numeric_data].min(),  \n",
    "            data[numeric_data].quantile(0.25),  \n",
    "            data[numeric_data].median(),  \n",
    "            data[numeric_data].quantile(0.75),  \n",
    "            data[numeric_data].max()  \n",
    "        ])\n",
    "    \n",
    "    num_col_info_df = pd.DataFrame(distributed_value, index=distributed_columns, columns=distributed_rows).T.round(1)\n",
    "except:\n",
    "    raise NotImplementedError()"
   ]
  },
  {
   "cell_type": "code",
   "execution_count": null,
   "metadata": {},
   "outputs": [],
   "source": [
    "dict(num_col_info_df.iloc[0])"
   ]
  },
  {
   "cell_type": "code",
   "execution_count": null,
   "metadata": {},
   "outputs": [],
   "source": [
    "num_col_info_df"
   ]
  },
  {
   "cell_type": "code",
   "execution_count": null,
   "metadata": {},
   "outputs": [],
   "source": [
    "data.to_csv('../Datasets/air_quality_shilin.csv',index=False,sep=\",\")"
   ]
  }
 ],
 "metadata": {
  "kernelspec": {
   "display_name": "Python 3",
   "language": "python",
   "name": "python3"
  },
  "language_info": {
   "codemirror_mode": {
    "name": "ipython",
    "version": 3
   },
   "file_extension": ".py",
   "mimetype": "text/x-python",
   "name": "python",
   "nbconvert_exporter": "python",
   "pygments_lexer": "ipython3",
   "version": "3.12.4"
  }
 },
 "nbformat": 4,
 "nbformat_minor": 2
}
