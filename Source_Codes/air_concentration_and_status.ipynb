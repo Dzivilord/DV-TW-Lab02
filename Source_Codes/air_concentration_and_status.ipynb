{
 "cells": [
  {
   "cell_type": "markdown",
   "metadata": {},
   "source": [
    "# CÂU HỎI: SỰ THAY ĐỔI NỒNG ĐỘ CÁC KHÍ, BỤI CÓ TRONG KHÔNG KHÍ CÓ ẢNH HƯỞNG ĐẾN CHẤT LƯỢNG KHÔNG KHÍ THEO QUÝ TRONG GIAI ĐOẠN TỪ NĂM 2016-2024 Ở SHILIN, ĐÀI LOAN KHÔNG?"
   ]
  },
  {
   "cell_type": "code",
   "execution_count": null,
   "metadata": {},
   "outputs": [],
   "source": [
    "import pandas as pd\n",
    "import numpy as np\n",
    "import matplotlib.pyplot as plt\n",
    "from matplotlib.widgets import RadioButtons\n",
    "import seaborn as sns"
   ]
  },
  {
   "cell_type": "code",
   "execution_count": null,
   "metadata": {},
   "outputs": [],
   "source": [
    "data=pd.read_csv('../Datasets/air_quality_shilin.csv')"
   ]
  },
  {
   "cell_type": "markdown",
   "metadata": {},
   "source": [
    "## BIỂU ĐỒ ĐƯỜNG: BIỂU ĐỒ THỂ HIỆN SỰ THAY ĐỔI NỒNG ĐỘ CÁC KHÍ, BỤI CÓ TRONG KHÔNG KHÍ THEO QUÝ TRONG GIAI ĐOẠN TỪ 2016-2024\n",
    "1. **Các thuộc tính sử dụng**\n",
    "- `date`: thời điểm ghi nhận số liệu.\n",
    "- `so2`: nồng độ khí SO2 có trong không khí (đơn vị ppb)\n",
    "- `co`: nồng độ khí CO có trong không khí (đơn vị ppm)\n",
    "- `o3`: nồng độ khí O3 có trong không khí (đơn vị ppb)\n",
    "- `pm10`: nồng độ bụi có đường kính 10 micromet trở xuống (đơn vị μg/m3)\n",
    "- `pm2.5`: nồng độ bụi có đường kính 2.5 micromet trở xuống (đơn vị μg/m3)\n",
    "- `no2`: nồng độ khí NO2 có trong không khí (đơn vị ppb)\n",
    "- `nox`: nồng độ khí NOX có trong không khí (đơn vị ppb)\n",
    "- `no`: nồng độ khí NO có trong không khí (đơn vị ppb)\n",
    "2. **Loại biểu đồ**\n",
    "\n",
    "**Biểu đồ đường**: là một loại biểu đồ trực quan hóa dữ liệu hiệu quả để hiển thị sự biến động của các thuộc tính theo thời gian.\n",
    "\n",
    "3. **Ý nghĩa của biểu đồ**\n",
    "\n",
    "Nhận thấy sự biến động về nồng độ trong không khí của các khí và bụi theo quý trong giai đoạn từ 2016-2024\n",
    "\n",
    "4. **Nguyên nhân sử dụng**\n",
    "\n",
    "Biểu đồ đường tập trung hiển thị giá trị biến động từng quý, từ đó thấy được sự tăng giảm đó xảy ra ở quý nào, năm nào và nhận biết sự kiện gì đã tác động đến sự thay đổi đó.\n",
    "\n",
    "5. **Kết luận**\n",
    "\n",
    "- Tổng quan các khí và bụi đều có xu hướng giảm dần từ năm 2016 đến năm 2024. Nguyên nhân có thể là do đại dịch Covid-19 các hoạt động sản xuất cũng như phương tiện di chuyển có xu hướng giảm đi.\n",
    "- Các đỉnh cao của nồng độ các loại khí và bụi thường xuất hiện vào các quý đầu năm và giữa năm. Lý do là vì thời tiết lúc này thường lạnh, không khí kém di chuyển, đồng thời người dân sử dụng các nguồn năng lượng để sưởi ấm từ đó nồng độ các khí này tăng lên.\n",
    "\n",
    "\n",
    "\n",
    "\n",
    "\n"
   ]
  },
  {
   "cell_type": "code",
   "execution_count": null,
   "metadata": {},
   "outputs": [],
   "source": [
    "first_used_data=data[[\"date\",\"so2\",\"co\",\"o3\",\"pm10\",\"pm2.5\",\"no2\",\"nox\",\"no\"]]\n",
    "first_used_data=pd.DataFrame(first_used_data)\n",
    "first_used_data[\"date\"]=pd.to_datetime(first_used_data[\"date\"]) #chuyển cột date thành kiểu datetime\n",
    "first_used_data.set_index(\"date\",inplace=True) #đặt cột date làm cột index\n",
    "\n",
    "line_data=first_used_data.resample(rule=\"Q\").mean() #Nhóm các dòng theo quý và lấy giá trị trung bình\n",
    "\n",
    "fig, axes=plt.subplots(ncols=2,nrows=1,figsize=(18,8))\n",
    "\n",
    "axes[0].plot(line_data.index,line_data[\"pm2.5\"],label=\"PM2.5\")\n",
    "axes[0].plot(line_data.index,line_data[\"pm10\"],label=\"PM10\")\n",
    "axes[0].set_title(\"Biểu đồ thể hiện trung bình lượng PM2.5 and PM10\\n có trong không khí theo quý từ năm 2017-2024\")\n",
    "axes[0].set_ylabel(\"μg/m3\")\n",
    "axes[0].legend()\n",
    "\n",
    "axes[1].plot(line_data.index,line_data[\"so2\"],label=\"SO2\",color=\"red\",linewidth=2)\n",
    "axes[1].plot(line_data.index,line_data[\"o3\"],label=\"O3\",color=\"green\",linewidth=2)\n",
    "axes[1].plot(line_data.index,line_data[\"no2\"],label=\"NO2\",color=\"purple\",linewidth=2)\n",
    "axes[1].plot(line_data.index,line_data[\"nox\"],label=\"NOx\",color=\"blue\",linewidth=2)\n",
    "axes[1].plot(line_data.index,line_data[\"no\"],label=\"NO\",color=\"gray\",linewidth=2)\n",
    "axes[1].set_title(\"Biểu đồ thể hiện trung bình lượng SO2, CO, O3, NO2, NOx, NO\\n có trong không khí theo quý từ năm 2017-2024\")\n",
    "axes[1].set_ylabel(\"ppb\")\n",
    "\n",
    "# Trục y thứ hai (ppm cho CO)\n",
    "ax2 = axes[1].twinx()\n",
    "ax2.plot(line_data.index, line_data[\"co\"], label=\"CO\", color='orange',linewidth=2,linestyle='--')\n",
    "ax2.set_ylabel(\"ppm\")  # Đơn vị cho CO\n",
    "\n",
    "axes[1].set_ylim(0, 50)\n",
    "ax2.set_ylim(0, 0.7)\n",
    "\n",
    "lines = axes[1].get_lines() + ax2.get_lines()  # Lấy tất cả các đường từ cả hai trục\n",
    "labels = [line.get_label() for line in lines]  # Lấy các nhãn từ các đường\n",
    "axes[1].legend(lines, labels, loc=\"upper right\")\n",
    "\n",
    "plt.show()"
   ]
  },
  {
   "cell_type": "markdown",
   "metadata": {},
   "source": [
    "## BIỂU ĐỒ MIỀN: BIỂU ĐỒ THỂ HIỆN PHẦN TRĂM CHẤT LƯỢNG KHÔNG KHÍ Ở CÁC QUÝ TRONG GIAI ĐOẠN TỪ 2016-2024\n",
    "\n",
    "1. **Các thuộc tính sử dụng**\n",
    "- `date`: thời điểm ghi nhận số liệu.\n",
    "- `status`: chất lượng không khí tại thời điểm ghi nhận (Good, Moderate, Unhealthy for Sensitive Groups, Unhealthy)\n",
    "2. **Loại biểu đồ**\n",
    "\n",
    "    **Biểu đồ miền**: là một loại biểu đồ trực quan hóa dữ liệu hiệu quả để hiển thị sự biến động về phần trăm của các thuộc tính trong tổng thể theo thời gian.\n",
    "\n",
    "3. **Ý nghĩa của biểu đồ**\n",
    "\n",
    "    Nhận thấy sự biến động về phần trăm chất lượng không khí của các quý trong giai đoạn từ 2016-2024\n",
    "\n",
    "4. **Nguyên nhân sử dụng**\n",
    "\n",
    "   Ở đây em đếm tần suất các thời điểm xuất hiện của Good, Moderate, Unhealthy for Sensitive Groups, Unhealthy có trong từng quý. Sau đó tính phần trăm của các tần suất này. Do đó, biểu đồ miền là biểu đồ hợp lý nhất để thể hiện sự thay đổi về phần trăm của các giá trị này trong giai đoạn 2016-2024\n",
    "5. **Kết luận**\n",
    "- Nhìn chung, chất lượng không khí tại Shilin, Đài Loan đã có sự cải thiện đáng kể từ năm 2016 đến năm 2024, với tỷ lệ các thời điểm có chất lượng không khí \"Good\" tăng lên và tỷ lệ các thời điểm có chất lượng không khí \"Moderate\" và \"Unhealthy for Sensitive Groups\" giảm đi. Sự cải thiện chất lượng không khí có thể liên quan đến các biện pháp kiểm soát ô nhiễm, giảm thiểu hoạt động công nghiệp và giao thông trong giai đoạn đại dịch Covid-19.\n",
    "- Theo như nguyên nhân đã nói ở biểu đồ đường, thời điểm chất lượng không khí ở mức Good có xu hướng thấp đi ở quý đầu và giữa năm \n",
    "- Từ đó ta thấy sự thay đổi nồng đồ các loại khí và bụi trong không khí ảnh hưởng rõ rệt đến chất lượng không khí của Shilin, Đài Loan"
   ]
  },
  {
   "cell_type": "code",
   "execution_count": null,
   "metadata": {},
   "outputs": [],
   "source": [
    "used_data=data[[\"date\",\"status\"]]\n",
    "used_data=pd.DataFrame(used_data)\n",
    "used_data[\"date\"]=pd.to_datetime(used_data[\"date\"]) #chuyển cột date thành kiểu datetime\n",
    "used_data.set_index(\"date\",inplace=True) #đặt cột date làm cột index\n",
    "used_data.sort_index(inplace=True) #sắp xếp dữ liệu theo index\n",
    "used_data[\"status\"] = used_data[\"status\"].astype('category')\n",
    "\n",
    "# Tạo biểu đồ thể hiện số lượng mỗi loại status theo quý\n",
    "status_count_data=used_data.groupby(used_data.index.to_period('M'))[\"status\"].value_counts().unstack()\n",
    "status_count_data[\"Total\"]=status_count_data.sum(axis=1)\n",
    "\n",
    "# Tạo biểu đồ thể hiện phần trăm mỗi loại status theo tháng\n",
    "status_percentage_data=pd.DataFrame()\n",
    "for i in status_count_data.columns:\n",
    "    status_percentage_data[i]=status_count_data[i]*100/status_count_data[\"Total\"]\n",
    "status_percentage_data=status_percentage_data.round(2)\n",
    "status_percentage_data.index = status_percentage_data.index.to_timestamp()\n",
    "\n",
    "# Tạo biểu đồ\n",
    "plt.figure(figsize=(18,10))\n",
    "plt.stackplot(status_percentage_data.index,status_percentage_data[\"Good\"],status_percentage_data[\"Moderate\"],status_percentage_data[\"Unhealthy for Sensitive Groups\"],status_percentage_data[\"Unhealthy\"],labels=[\"Good\",\"Moderate\",\"Unhealthy for Sensitive Groups\",\"Unhealthy\"],colors=[\"green\",\"orange\",\"red\",\"brown\"])\n",
    "\n",
    "\n",
    "# Thêm đường viền cho từng lớp\n",
    "plt.plot(status_percentage_data.index, status_percentage_data[\"Good\"], color=\"black\", linewidth=0.5)  # Border cho \"Good\"\n",
    "plt.plot(status_percentage_data.index, status_percentage_data[\"Good\"] + status_percentage_data[\"Moderate\"], color=\"black\", linewidth=0.5)  # Border cho \"Moderate\"\n",
    "plt.plot(status_percentage_data.index, status_percentage_data[\"Good\"] + status_percentage_data[\"Moderate\"] + status_percentage_data[\"Unhealthy for Sensitive Groups\"], color=\"black\", linewidth=0.5)  # Border cho \"Unhealthy for Sensitive Groups\"\n",
    "plt.plot(status_percentage_data.index, status_percentage_data[\"Good\"] + status_percentage_data[\"Moderate\"] + status_percentage_data[\"Unhealthy for Sensitive Groups\"] + status_percentage_data[\"Unhealthy\"], color=\"black\", linewidth=0.5)  # Border cho \"Unhealthy\"\n",
    "\n",
    "\n",
    "\n",
    "plt.title(\"Biểu đồ thể hiện phần trăm các mức độ ô nhiễm không khí theo quý từ năm 2017-2024\")\n",
    "plt.xlabel(\"Thời gian\", fontsize=12)\n",
    "plt.ylabel(\"Tỷ lệ (%)\", fontsize=12)\n",
    "plt.legend(loc=\"lower right\", fontsize=10)\n",
    "plt.tight_layout()\n",
    "plt.show()"
   ]
  }
 ],
 "metadata": {
  "kernelspec": {
   "display_name": "Python 3",
   "language": "python",
   "name": "python3"
  },
  "language_info": {
   "codemirror_mode": {
    "name": "ipython",
    "version": 3
   },
   "file_extension": ".py",
   "mimetype": "text/x-python",
   "name": "python",
   "nbconvert_exporter": "python",
   "pygments_lexer": "ipython3",
   "version": "3.12.4"
  }
 },
 "nbformat": 4,
 "nbformat_minor": 2
}
